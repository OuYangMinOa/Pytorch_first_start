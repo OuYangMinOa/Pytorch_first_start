{
 "cells": [
  {
   "cell_type": "code",
   "execution_count": 2,
   "id": "9545aab1",
   "metadata": {},
   "outputs": [],
   "source": [
    "import torchvision\n",
    "import tarfile\n",
    "import torch\n",
    "import glob\n",
    "import os\n",
    "\n",
    "from torchvision.datasets.utils import download_url"
   ]
  },
  {
   "cell_type": "markdown",
   "id": "2c84016e",
   "metadata": {},
   "source": [
    "# Download data"
   ]
  },
  {
   "cell_type": "code",
   "execution_count": 4,
   "id": "148cd4bc",
   "metadata": {},
   "outputs": [],
   "source": [
    "if (not os.path.isfile('cifar10.tgz')):download_url('https://s3.amazonaws.com/fast-ai-imageclas/cifar10.tgz','.')"
   ]
  },
  {
   "cell_type": "code",
   "execution_count": 5,
   "id": "7bdb056b",
   "metadata": {},
   "outputs": [],
   "source": [
    "if (not os.path.isdir('data')):tarfile.open('cifar10.tgz',\"r:gz\").extractall(path=\"./data\")"
   ]
  },
  {
   "cell_type": "markdown",
   "id": "9814b37f",
   "metadata": {},
   "source": [
    "# ImageFolder"
   ]
  },
  {
   "cell_type": "code",
   "execution_count": 2,
   "id": "e29b515b",
   "metadata": {},
   "outputs": [],
   "source": [
    "from torchvision.transforms import ToTensor\n",
    "from torchvision.datasets import ImageFolder"
   ]
  },
  {
   "cell_type": "code",
   "execution_count": 3,
   "id": "1e64adbb",
   "metadata": {},
   "outputs": [],
   "source": [
    "dateset = ImageFolder(r'data\\cifar10\\train', transform=ToTensor())"
   ]
  },
  {
   "cell_type": "code",
   "execution_count": 4,
   "id": "9fff9f1d",
   "metadata": {},
   "outputs": [
    {
     "data": {
      "text/plain": [
       "Dataset ImageFolder\n",
       "    Number of datapoints: 50000\n",
       "    Root location: data\\cifar10\\train\n",
       "    StandardTransform\n",
       "Transform: ToTensor()"
      ]
     },
     "execution_count": 4,
     "metadata": {},
     "output_type": "execute_result"
    }
   ],
   "source": [
    "dateset"
   ]
  },
  {
   "cell_type": "code",
   "execution_count": 8,
   "id": "d4cb7eb5",
   "metadata": {},
   "outputs": [
    {
     "name": "stdout",
     "output_type": "stream",
     "text": [
      "torch.Size([3, 32, 32]) 5\n"
     ]
    }
   ],
   "source": [
    "img, label = dateset[25001]\n",
    "print(img.shape,label)"
   ]
  },
  {
   "cell_type": "code",
   "execution_count": 9,
   "id": "56df8ec5",
   "metadata": {},
   "outputs": [
    {
     "data": {
      "text/plain": [
       "['airplane',\n",
       " 'automobile',\n",
       " 'bird',\n",
       " 'cat',\n",
       " 'deer',\n",
       " 'dog',\n",
       " 'frog',\n",
       " 'horse',\n",
       " 'ship',\n",
       " 'truck']"
      ]
     },
     "execution_count": 9,
     "metadata": {},
     "output_type": "execute_result"
    }
   ],
   "source": [
    "dateset.classes"
   ]
  },
  {
   "cell_type": "markdown",
   "id": "aeb6ba6f",
   "metadata": {},
   "source": [
    "# Random split"
   ]
  },
  {
   "cell_type": "code",
   "execution_count": 10,
   "id": "033a705b",
   "metadata": {},
   "outputs": [],
   "source": [
    "from torch.utils.data import random_split"
   ]
  },
  {
   "cell_type": "code",
   "execution_count": 11,
   "id": "ec127ec8",
   "metadata": {},
   "outputs": [
    {
     "name": "stdout",
     "output_type": "stream",
     "text": [
      "45000 5000\n"
     ]
    }
   ],
   "source": [
    "val_size = 0.1\n",
    "train_size, test_size = int(len(dateset)*(1-val_size)), int(len(dateset)*val_size)\n",
    "\n",
    "train_ds, test_ds = random_split(dateset,[train_size, test_size])\n",
    "print(len(train_ds),len(test_ds))"
   ]
  },
  {
   "cell_type": "markdown",
   "id": "efb61b10",
   "metadata": {},
   "source": [
    "# DataLoader"
   ]
  },
  {
   "cell_type": "code",
   "execution_count": 12,
   "id": "6b1764bd",
   "metadata": {},
   "outputs": [],
   "source": [
    "from torch.utils.data.dataloader import DataLoader"
   ]
  },
  {
   "cell_type": "code",
   "execution_count": 13,
   "id": "ab7538b6",
   "metadata": {},
   "outputs": [],
   "source": [
    "batch_size = 128"
   ]
  },
  {
   "cell_type": "code",
   "execution_count": 14,
   "id": "46055960",
   "metadata": {},
   "outputs": [
    {
     "name": "stdout",
     "output_type": "stream",
     "text": [
      "352 40\n"
     ]
    }
   ],
   "source": [
    "train_dl = DataLoader(train_ds, batch_size,shuffle=True, num_workers=4,pin_memory=True)\n",
    "test_dl  = DataLoader(test_ds, batch_size,shuffle=True, num_workers=4,pin_memory=True)\n",
    "print(len(train_dl),len(test_dl))"
   ]
  },
  {
   "cell_type": "markdown",
   "id": "62ee9844",
   "metadata": {},
   "source": [
    "# Model"
   ]
  },
  {
   "cell_type": "code",
   "execution_count": 28,
   "id": "42b4f124",
   "metadata": {},
   "outputs": [
    {
     "data": {
      "text/plain": [
       "<torch._C.Generator at 0x252f04712f0>"
      ]
     },
     "execution_count": 28,
     "metadata": {},
     "output_type": "execute_result"
    }
   ],
   "source": [
    "randon_seed = 47\n",
    "torch.manual_seed(randon_seed)"
   ]
  },
  {
   "cell_type": "code",
   "execution_count": 29,
   "id": "d98cbeb2",
   "metadata": {},
   "outputs": [],
   "source": [
    "import torch.nn as nn\n",
    "import torch.nn.functional as F"
   ]
  },
  {
   "cell_type": "code",
   "execution_count": 17,
   "id": "66a36095",
   "metadata": {},
   "outputs": [
    {
     "data": {
      "text/plain": [
       "device(type='cuda')"
      ]
     },
     "execution_count": 17,
     "metadata": {},
     "output_type": "execute_result"
    }
   ],
   "source": [
    "device = torch.device('cpu')\n",
    "if torch.cuda.is_available():\n",
    "    device = torch.device('cuda')\n",
    "device"
   ]
  },
  {
   "cell_type": "code",
   "execution_count": 30,
   "id": "471f9938",
   "metadata": {},
   "outputs": [],
   "source": [
    "model = nn.Sequential(\n",
    "    # 3 x 32 x 32\n",
    "    nn.Conv2d(3,32,kernel_size=3,stride=1,padding=1),  # 32 x 32 x 32\n",
    "    nn.ReLU(),\n",
    "    nn.Conv2d(32,64,kernel_size=3,stride=1,padding=1), # 64 x 32 x 32\n",
    "    nn.ReLU(),\n",
    "    nn.MaxPool2d(2,2), # 256 x 16 x 16\n",
    "    \n",
    "    nn.Conv2d(64,128,kernel_size=3,stride=1,padding=1), # 128 x 16 x 16\n",
    "    nn.ReLU(),\n",
    "    nn.Conv2d(128,128,kernel_size=3,stride=1,padding=1), # 128 x 16 x 16\n",
    "    nn.ReLU(),\n",
    "    nn.MaxPool2d(2,2), # 128 x 8 x 8\n",
    "    \n",
    "    nn.Conv2d(128,256,kernel_size=3,stride=1,padding=1), # 256 x 16 x 16\n",
    "    nn.ReLU(),\n",
    "    nn.Conv2d(256,256,kernel_size=3,stride=1,padding=1), # 256 x 16 x 16\n",
    "    nn.ReLU(),\n",
    "    nn.MaxPool2d(2,2), # 256 x 4 x 4\n",
    "    \n",
    "    \n",
    "    nn.Flatten(),\n",
    "    nn.Linear(256*4*4, 1024), # 2048\n",
    "    nn.ReLU(),\n",
    "    nn.Linear(1024,512),\n",
    "    nn.Linear(512,10),\n",
    ").to(device)\n",
    "\n"
   ]
  },
  {
   "cell_type": "code",
   "execution_count": 31,
   "id": "888a951c",
   "metadata": {},
   "outputs": [],
   "source": [
    "import torch.optim as optim\n",
    "from tqdm.auto import tqdm"
   ]
  },
  {
   "cell_type": "code",
   "execution_count": 35,
   "id": "6e2e8802",
   "metadata": {},
   "outputs": [],
   "source": [
    "loss_fn    =  nn.CrossEntropyLoss()\n",
    "optimizer  =  optim.Adam(model.parameters(),lr=0.001)"
   ]
  },
  {
   "cell_type": "markdown",
   "id": "00644daa",
   "metadata": {},
   "source": [
    "# Train it"
   ]
  },
  {
   "cell_type": "code",
   "execution_count": null,
   "id": "05249db5",
   "metadata": {},
   "outputs": [],
   "source": [
    "train_losses = []\n",
    "valid_losses = []"
   ]
  },
  {
   "cell_type": "code",
   "execution_count": 56,
   "id": "c91264c1",
   "metadata": {
    "scrolled": true
   },
   "outputs": [
    {
     "data": {
      "application/vnd.jupyter.widget-view+json": {
       "model_id": "8759b2a9717c4cb69fd81824b0f7b145",
       "version_major": 2,
       "version_minor": 0
      },
      "text/plain": [
       "  0%|          | 0/392 [00:00<?, ?it/s]"
      ]
     },
     "metadata": {},
     "output_type": "display_data"
    },
    {
     "name": "stdout",
     "output_type": "stream",
     "text": [
      "Epoch:1 Train Loss:0.2686 valid Losss:0.9342 val acc:75.36%\n"
     ]
    },
    {
     "data": {
      "application/vnd.jupyter.widget-view+json": {
       "model_id": "ad66681ec1aa43369714dc7a14df6a92",
       "version_major": 2,
       "version_minor": 0
      },
      "text/plain": [
       "  0%|          | 0/392 [00:00<?, ?it/s]"
      ]
     },
     "metadata": {},
     "output_type": "display_data"
    },
    {
     "name": "stdout",
     "output_type": "stream",
     "text": [
      "Epoch:2 Train Loss:0.2252 valid Losss:0.9190 val acc:75.48%\n"
     ]
    },
    {
     "data": {
      "application/vnd.jupyter.widget-view+json": {
       "model_id": "f6dbcca673d7462e9a397454373088d1",
       "version_major": 2,
       "version_minor": 0
      },
      "text/plain": [
       "  0%|          | 0/392 [00:00<?, ?it/s]"
      ]
     },
     "metadata": {},
     "output_type": "display_data"
    },
    {
     "name": "stdout",
     "output_type": "stream",
     "text": [
      "Epoch:3 Train Loss:0.2039 valid Losss:0.9827 val acc:76.02%\n"
     ]
    },
    {
     "data": {
      "application/vnd.jupyter.widget-view+json": {
       "model_id": "37fbbfe126524f1fba5fe2769af3e135",
       "version_major": 2,
       "version_minor": 0
      },
      "text/plain": [
       "  0%|          | 0/392 [00:00<?, ?it/s]"
      ]
     },
     "metadata": {},
     "output_type": "display_data"
    },
    {
     "name": "stdout",
     "output_type": "stream",
     "text": [
      "Epoch:4 Train Loss:0.1722 valid Losss:1.0226 val acc:76.88%\n"
     ]
    },
    {
     "data": {
      "application/vnd.jupyter.widget-view+json": {
       "model_id": "cfb90cc722dd457b98a43ddeb4d36c8c",
       "version_major": 2,
       "version_minor": 0
      },
      "text/plain": [
       "  0%|          | 0/392 [00:00<?, ?it/s]"
      ]
     },
     "metadata": {},
     "output_type": "display_data"
    },
    {
     "name": "stdout",
     "output_type": "stream",
     "text": [
      "Epoch:5 Train Loss:0.1407 valid Losss:1.1245 val acc:75.26%\n"
     ]
    },
    {
     "data": {
      "application/vnd.jupyter.widget-view+json": {
       "model_id": "8ee6b17751bf4fe2939d41ff7c36cb31",
       "version_major": 2,
       "version_minor": 0
      },
      "text/plain": [
       "  0%|          | 0/392 [00:00<?, ?it/s]"
      ]
     },
     "metadata": {},
     "output_type": "display_data"
    },
    {
     "name": "stdout",
     "output_type": "stream",
     "text": [
      "Epoch:6 Train Loss:0.1410 valid Losss:1.2166 val acc:76.22%\n"
     ]
    },
    {
     "data": {
      "application/vnd.jupyter.widget-view+json": {
       "model_id": "8e28dba4e0984817a05750e9b776a3e2",
       "version_major": 2,
       "version_minor": 0
      },
      "text/plain": [
       "  0%|          | 0/392 [00:00<?, ?it/s]"
      ]
     },
     "metadata": {},
     "output_type": "display_data"
    },
    {
     "name": "stdout",
     "output_type": "stream",
     "text": [
      "Epoch:7 Train Loss:0.1263 valid Losss:1.1939 val acc:75.50%\n"
     ]
    },
    {
     "data": {
      "application/vnd.jupyter.widget-view+json": {
       "model_id": "4181041a15e34fe59f649a659b58643a",
       "version_major": 2,
       "version_minor": 0
      },
      "text/plain": [
       "  0%|          | 0/392 [00:00<?, ?it/s]"
      ]
     },
     "metadata": {},
     "output_type": "display_data"
    },
    {
     "name": "stdout",
     "output_type": "stream",
     "text": [
      "Epoch:8 Train Loss:0.1189 valid Losss:1.3775 val acc:75.64%\n"
     ]
    },
    {
     "data": {
      "application/vnd.jupyter.widget-view+json": {
       "model_id": "0f2e40b018cf43dd9fd3c4936d668779",
       "version_major": 2,
       "version_minor": 0
      },
      "text/plain": [
       "  0%|          | 0/392 [00:00<?, ?it/s]"
      ]
     },
     "metadata": {},
     "output_type": "display_data"
    },
    {
     "name": "stdout",
     "output_type": "stream",
     "text": [
      "Epoch:9 Train Loss:0.1038 valid Losss:1.3698 val acc:76.34%\n"
     ]
    },
    {
     "data": {
      "application/vnd.jupyter.widget-view+json": {
       "model_id": "896f992210234ef28a41e8f9a0a1aed3",
       "version_major": 2,
       "version_minor": 0
      },
      "text/plain": [
       "  0%|          | 0/392 [00:00<?, ?it/s]"
      ]
     },
     "metadata": {},
     "output_type": "display_data"
    },
    {
     "name": "stdout",
     "output_type": "stream",
     "text": [
      "Epoch:10 Train Loss:0.1042 valid Losss:1.3164 val acc:76.02%\n"
     ]
    }
   ],
   "source": [
    "\n",
    "num_epoch = 10\n",
    "\n",
    "for epoch in range(1,num_epoch+1):\n",
    "    train_loss = 0.0\n",
    "    valid_loss = 0.0\n",
    "    model.train()\n",
    "    \n",
    "    pro = tqdm(total=len(train_dl) + len(test_dl))\n",
    "    for img, lbl in train_dl:\n",
    "        img = img.cuda()\n",
    "        lbl = lbl.cuda()\n",
    "        optimizer.zero_grad()\n",
    "        predict = model(img)\n",
    "        \n",
    "        loss = loss_fn(predict,lbl)\n",
    "        loss.backward()\n",
    "        optimizer.step()\n",
    "        \n",
    "        train_loss  +=  loss.item()*img.size(0)\n",
    "        pro.update(1)\n",
    "    \n",
    "    model.eval()\n",
    "    accuracy = 0.0\n",
    "    total = 0.0\n",
    "    \n",
    "    \n",
    "    for img, lbl in test_dl:\n",
    "        img = img.cuda()\n",
    "        lbl = lbl.cuda()\n",
    "\n",
    "        predict = model(img)\n",
    "        loss = loss_fn(predict,lbl)\n",
    "\n",
    "        valid_loss += loss.item()*img.size(0)\n",
    "        \n",
    "        \n",
    "        # calculate accuracy\n",
    "        _, predicted = torch.max(predict.data, 1)\n",
    "        total       += lbl.size(0)\n",
    "        accuracy    += (predicted == lbl).sum().item()\n",
    "        \n",
    "        \n",
    "        pro.update(1)\n",
    "    pro.close()\n",
    "    \n",
    "    \n",
    "    accuracy = (100 * accuracy / total)\n",
    "    \n",
    "    \n",
    "    train_loss = train_loss/len(train_dl.sampler) \n",
    "    valid_loss = valid_loss/len(test_dl.sampler)\n",
    "\n",
    "    train_losses.append(train_loss)\n",
    "    valid_losses.append(valid_loss)\n",
    "\n",
    "    print('Epoch:{} Train Loss:{:.4f} valid Losss:{:.4f} val acc:{:.2f}%'.format(epoch,train_loss,valid_loss,accuracy))    "
   ]
  },
  {
   "cell_type": "markdown",
   "id": "4f841d9c",
   "metadata": {},
   "source": [
    "# Plot train loss"
   ]
  },
  {
   "cell_type": "code",
   "execution_count": 48,
   "id": "26c44f08",
   "metadata": {},
   "outputs": [],
   "source": [
    "from matplotlib.pyplot import *"
   ]
  },
  {
   "cell_type": "code",
   "execution_count": 55,
   "id": "d544123d",
   "metadata": {},
   "outputs": [
    {
     "data": {
      "text/plain": [
       "<matplotlib.legend.Legend at 0x25336264310>"
      ]
     },
     "execution_count": 55,
     "metadata": {},
     "output_type": "execute_result"
    },
    {
     "data": {
      "image/png": "[encoded data removed]",
      "text/plain": [
       "<Figure size 640x480 with 1 Axes>"
      ]
     },
     "metadata": {},
     "output_type": "display_data"
    }
   ],
   "source": [
    "fig, ax = subplots(1)\n",
    "\n",
    "ax.plot(train_losses,label='train')\n",
    "ax.plot(valid_losses,label='valid')\n",
    "grid()\n",
    "xlabel(\"Epochs\")\n",
    "ylabel(\"Loss\")\n",
    "\n",
    "legend()"
   ]
  },
  {
   "cell_type": "markdown",
   "id": "ab3f7fdf",
   "metadata": {},
   "source": [
    "# Test data"
   ]
  },
  {
   "cell_type": "code",
   "execution_count": 39,
   "id": "d9e075d7",
   "metadata": {},
   "outputs": [],
   "source": [
    "dateset = ImageFolder(r'data\\cifar10\\test', transform=ToTensor())\n",
    "final_dl = DataLoader(dateset,64,shuffle=True, num_workers=4,pin_memory=True)"
   ]
  },
  {
   "cell_type": "code",
   "execution_count": 40,
   "id": "91ad3afb",
   "metadata": {
    "scrolled": true
   },
   "outputs": [
    {
     "data": {
      "text/plain": [
       "157"
      ]
     },
     "execution_count": 40,
     "metadata": {},
     "output_type": "execute_result"
    }
   ],
   "source": [
    "len(final_dl)"
   ]
  },
  {
   "cell_type": "code",
   "execution_count": 57,
   "id": "20dbc745",
   "metadata": {},
   "outputs": [],
   "source": [
    "model.eval()\n",
    "accuracy = 0.0\n",
    "total = 0.0\n",
    "for img, lbl in final_dl:\n",
    "    # run the model on the test set to predict labels\n",
    "    \n",
    "    img = img.cuda()\n",
    "    lbl = lbl.cuda()\n",
    "    \n",
    "    outputs = model(img)\n",
    "    # the label with the highest energy will be our prediction\n",
    "    _, predicted = torch.max(outputs.data, 1)\n",
    "    total    += lbl.size(0)\n",
    "    accuracy += (predicted == lbl).sum().item()\n",
    "\n",
    "# compute the accuracy over all test images\n",
    "accuracy = (100 * accuracy / total)"
   ]
  },
  {
   "cell_type": "code",
   "execution_count": 58,
   "id": "ad99bfe2",
   "metadata": {},
   "outputs": [
    {
     "name": "stdout",
     "output_type": "stream",
     "text": [
      "Final accuracy : 75.41%\n"
     ]
    }
   ],
   "source": [
    "print(f\"Final accuracy : {accuracy}%\")"
   ]
  },
  {
   "cell_type": "code",
   "execution_count": 70,
   "id": "cc4ad0b1",
   "metadata": {},
   "outputs": [],
   "source": [
    "def predict_img(img, model):\n",
    "    xb = img.unsqueeze(0).to(device)\n",
    "    yb = model(xb)\n",
    "    _, preds = torch.max(yb, dim=1)\n",
    "    return dateset.classes[preds[0].item()]"
   ]
  },
  {
   "cell_type": "code",
   "execution_count": 94,
   "id": "d36b86e8",
   "metadata": {},
   "outputs": [
    {
     "name": "stdout",
     "output_type": "stream",
     "text": [
      "Label : airplane, Predict : bird\n"
     ]
    },
    {
     "data": {
      "image/png": "[encoded data removed]",
      "text/plain": [
       "<Figure size 640x480 with 1 Axes>"
      ]
     },
     "metadata": {},
     "output_type": "display_data"
    }
   ],
   "source": [
    "import random\n",
    "img, labels = dateset[random.randint(0,len(dateset))]\n",
    "imshow(img.permute(1,2,0))\n",
    "print(f'Label : {dateset.classes[labels]}, Predict : {predict_img(img, model)}')"
   ]
  },
  {
   "cell_type": "markdown",
   "id": "e0e0e5eb",
   "metadata": {},
   "source": [
    "# Save the model"
   ]
  },
  {
   "cell_type": "code",
   "execution_count": 96,
   "id": "430287fd",
   "metadata": {},
   "outputs": [],
   "source": [
    "if (not os.path.isdir(\"models\")): os.mkdir(\"models\")\n",
    "torch.save(model.state_dict(), \"models/cifar10.pth\")"
   ]
  },
  {
   "cell_type": "code",
   "execution_count": 99,
   "id": "8f5ba908",
   "metadata": {},
   "outputs": [],
   "source": [
    "load_model = nn.Sequential(\n",
    "    # 3 x 32 x 32\n",
    "    nn.Conv2d(3,32,kernel_size=3,stride=1,padding=1),  # 32 x 32 x 32\n",
    "    nn.ReLU(),\n",
    "    nn.Conv2d(32,64,kernel_size=3,stride=1,padding=1), # 64 x 32 x 32\n",
    "    nn.ReLU(),\n",
    "    nn.MaxPool2d(2,2), # 256 x 16 x 16\n",
    "    \n",
    "    nn.Conv2d(64,128,kernel_size=3,stride=1,padding=1), # 128 x 16 x 16\n",
    "    nn.ReLU(),\n",
    "    nn.Conv2d(128,128,kernel_size=3,stride=1,padding=1), # 128 x 16 x 16\n",
    "    nn.ReLU(),\n",
    "    nn.MaxPool2d(2,2), # 128 x 8 x 8\n",
    "    \n",
    "    nn.Conv2d(128,256,kernel_size=3,stride=1,padding=1), # 256 x 16 x 16\n",
    "    nn.ReLU(),\n",
    "    nn.Conv2d(256,256,kernel_size=3,stride=1,padding=1), # 256 x 16 x 16\n",
    "    nn.ReLU(),\n",
    "    nn.MaxPool2d(2,2), # 256 x 4 x 4\n",
    "    \n",
    "    \n",
    "    nn.Flatten(),\n",
    "    nn.Linear(256*4*4, 1024), # 2048\n",
    "    nn.ReLU(),\n",
    "    nn.Linear(1024,512),\n",
    "    nn.Linear(512,10),\n",
    ").to(device)"
   ]
  },
  {
   "cell_type": "code",
   "execution_count": 100,
   "id": "ab69e9e3",
   "metadata": {},
   "outputs": [
    {
     "data": {
      "text/plain": [
       "<All keys matched successfully>"
      ]
     },
     "execution_count": 100,
     "metadata": {},
     "output_type": "execute_result"
    }
   ],
   "source": [
    "load_model.load_state_dict(torch.load(\"models/cifar10.pth\"))"
   ]
  },
  {
   "cell_type": "code",
   "execution_count": 103,
   "id": "ca5127ee",
   "metadata": {},
   "outputs": [
    {
     "data": {
      "text/plain": [
       "Sequential(\n",
       "  (0): Conv2d(3, 32, kernel_size=(3, 3), stride=(1, 1), padding=(1, 1))\n",
       "  (1): ReLU()\n",
       "  (2): Conv2d(32, 64, kernel_size=(3, 3), stride=(1, 1), padding=(1, 1))\n",
       "  (3): ReLU()\n",
       "  (4): MaxPool2d(kernel_size=2, stride=2, padding=0, dilation=1, ceil_mode=False)\n",
       "  (5): Conv2d(64, 128, kernel_size=(3, 3), stride=(1, 1), padding=(1, 1))\n",
       "  (6): ReLU()\n",
       "  (7): Conv2d(128, 128, kernel_size=(3, 3), stride=(1, 1), padding=(1, 1))\n",
       "  (8): ReLU()\n",
       "  (9): MaxPool2d(kernel_size=2, stride=2, padding=0, dilation=1, ceil_mode=False)\n",
       "  (10): Conv2d(128, 256, kernel_size=(3, 3), stride=(1, 1), padding=(1, 1))\n",
       "  (11): ReLU()\n",
       "  (12): Conv2d(256, 256, kernel_size=(3, 3), stride=(1, 1), padding=(1, 1))\n",
       "  (13): ReLU()\n",
       "  (14): MaxPool2d(kernel_size=2, stride=2, padding=0, dilation=1, ceil_mode=False)\n",
       "  (15): Flatten(start_dim=1, end_dim=-1)\n",
       "  (16): Linear(in_features=4096, out_features=1024, bias=True)\n",
       "  (17): ReLU()\n",
       "  (18): Linear(in_features=1024, out_features=512, bias=True)\n",
       "  (19): Linear(in_features=512, out_features=10, bias=True)\n",
       ")"
      ]
     },
     "execution_count": 103,
     "metadata": {},
     "output_type": "execute_result"
    }
   ],
   "source": [
    "load_model.eval()"
   ]
  },
  {
   "cell_type": "code",
   "execution_count": null,
   "id": "2200154b",
   "metadata": {},
   "outputs": [],
   "source": []
  }
 ],
 "metadata": {
  "kernelspec": {
   "display_name": "Python 3 (ipykernel)",
   "language": "python",
   "name": "python3"
  },
  "language_info": {
   "codemirror_mode": {
    "name": "ipython",
    "version": 3
   },
   "file_extension": ".py",
   "mimetype": "text/x-python",
   "name": "python",
   "nbconvert_exporter": "python",
   "pygments_lexer": "ipython3",
   "version": "3.9.13"
  },
  "toc": {
   "base_numbering": 1,
   "nav_menu": {},
   "number_sections": true,
   "sideBar": true,
   "skip_h1_title": false,
   "title_cell": "Table of Contents",
   "title_sidebar": "Contents",
   "toc_cell": false,
   "toc_position": {
    "height": "calc(100% - 180px)",
    "left": "10px",
    "top": "150px",
    "width": "384px"
   },
   "toc_section_display": true,
   "toc_window_display": true
  }
 },
 "nbformat": 4,
 "nbformat_minor": 5
}
