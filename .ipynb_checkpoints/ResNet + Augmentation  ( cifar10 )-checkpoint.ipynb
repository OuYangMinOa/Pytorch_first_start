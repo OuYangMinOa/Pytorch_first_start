{
 "cells": [
  {
   "cell_type": "code",
   "execution_count": 16,
   "id": "b8e98157",
   "metadata": {},
   "outputs": [],
   "source": [
    "import torchvision\n",
    "import tarfile\n",
    "import torch\n",
    "import glob\n",
    "import os\n",
    "\n",
    "\n",
    "from matplotlib.pyplot import *\n",
    "from torchvision.datasets.utils import download_url"
   ]
  },
  {
   "cell_type": "markdown",
   "id": "de245c37",
   "metadata": {},
   "source": [
    "# Download data"
   ]
  },
  {
   "cell_type": "code",
   "execution_count": 3,
   "id": "13fa71f1",
   "metadata": {},
   "outputs": [],
   "source": [
    "if (not os.path.isfile('cifar10.tgz')):download_url('https://s3.amazonaws.com/fast-ai-imageclas/cifar10.tgz','.')\n",
    "if (not os.path.isdir('data')):tarfile.open('cifar10.tgz',\"r:gz\").extractall(path=\"./data\")"
   ]
  },
  {
   "cell_type": "markdown",
   "id": "f068ed6d",
   "metadata": {},
   "source": [
    "# ImageFolder"
   ]
  },
  {
   "cell_type": "code",
   "execution_count": 31,
   "id": "abf1d98b",
   "metadata": {},
   "outputs": [],
   "source": [
    "from torchvision.transforms      import ToTensor\n",
    "from torchvision.datasets        import ImageFolder\n",
    "from torch.utils.data.dataloader import DataLoader\n",
    "\n",
    "import torchvision.transforms as tt\n",
    "\n",
    "\n",
    "dateset = ImageFolder(r'data\\cifar10\\train', transform=tt.ToTensor())"
   ]
  },
  {
   "cell_type": "markdown",
   "id": "9ff8d981",
   "metadata": {},
   "source": [
    "# normalization & augmentation"
   ]
  },
  {
   "cell_type": "code",
   "execution_count": 45,
   "id": "b6aa675c",
   "metadata": {},
   "outputs": [],
   "source": [
    "import torchvision.transforms as tt"
   ]
  },
  {
   "cell_type": "code",
   "execution_count": 128,
   "id": "4d61e9c8",
   "metadata": {},
   "outputs": [],
   "source": [
    "tranformers = tt.Compose([\n",
    "    tt.RandomCrop(size=(32,32), padding = 4, padding_mode='reflect'),\n",
    "    tt.RandomHorizontalFlip(),\n",
    "#     tt.AutoAugment(),\n",
    "    tt.ToTensor()\n",
    "    \n",
    "])"
   ]
  },
  {
   "cell_type": "code",
   "execution_count": 129,
   "id": "687f7f10",
   "metadata": {},
   "outputs": [],
   "source": [
    "dateset = ImageFolder(r'data\\cifar10\\train', transform=tranformers)"
   ]
  },
  {
   "cell_type": "code",
   "execution_count": 130,
   "id": "89c98379",
   "metadata": {},
   "outputs": [
    {
     "data": {
      "text/plain": [
       "'airplane'"
      ]
     },
     "execution_count": 130,
     "metadata": {},
     "output_type": "execute_result"
    },
    {
     "data": {
      "image/png": "[encoded data removed]",
      "text/plain": [
       "<Figure size 640x480 with 1 Axes>"
      ]
     },
     "metadata": {},
     "output_type": "display_data"
    }
   ],
   "source": [
    "img, label = dateset[21]\n",
    "imshow(img.permute(1,2,0))\n",
    "dateset.classes[label]"
   ]
  },
  {
   "cell_type": "code",
   "execution_count": 127,
   "id": "33bded3a",
   "metadata": {},
   "outputs": [
    {
     "data": {
      "text/plain": [
       "50000"
      ]
     },
     "execution_count": 127,
     "metadata": {},
     "output_type": "execute_result"
    }
   ],
   "source": [
    "len(dateset)"
   ]
  },
  {
   "cell_type": "markdown",
   "id": "2442396f",
   "metadata": {},
   "source": [
    "# device"
   ]
  },
  {
   "cell_type": "code",
   "execution_count": 131,
   "id": "3606e0a8",
   "metadata": {},
   "outputs": [
    {
     "data": {
      "text/plain": [
       "device(type='cuda')"
      ]
     },
     "execution_count": 131,
     "metadata": {},
     "output_type": "execute_result"
    }
   ],
   "source": [
    "device = torch.device('cpu')\n",
    "if torch.cuda.is_available():\n",
    "    device = torch.device('cuda')\n",
    "device"
   ]
  },
  {
   "cell_type": "markdown",
   "id": "ed7ab1c3",
   "metadata": {},
   "source": [
    "# random split"
   ]
  },
  {
   "cell_type": "code",
   "execution_count": 132,
   "id": "c263c38e",
   "metadata": {},
   "outputs": [],
   "source": [
    "from torch.utils.data import random_split\n",
    "from numpy import array"
   ]
  },
  {
   "cell_type": "code",
   "execution_count": 135,
   "id": "390a54c6",
   "metadata": {},
   "outputs": [
    {
     "data": {
      "text/plain": [
       "<torch._C.Generator at 0x278ebc8e3b0>"
      ]
     },
     "execution_count": 135,
     "metadata": {},
     "output_type": "execute_result"
    }
   ],
   "source": [
    "randon_seed = 47\n",
    "torch.manual_seed(randon_seed)"
   ]
  },
  {
   "cell_type": "code",
   "execution_count": 136,
   "id": "c468dad7",
   "metadata": {},
   "outputs": [
    {
     "name": "stdout",
     "output_type": "stream",
     "text": [
      "45000 5000\n"
     ]
    }
   ],
   "source": [
    "val_size = 0.1\n",
    "train_size, val_size = (array([(1-val_size), val_size]) * len(dateset)).astype(int)\n",
    "\n",
    "train_ds, val_ds = random_split(dateset,[train_size, val_size])\n",
    "print(len(train_ds),len(test_ds))"
   ]
  },
  {
   "cell_type": "markdown",
   "id": "3003f64d",
   "metadata": {},
   "source": [
    "# dataloader "
   ]
  },
  {
   "cell_type": "code",
   "execution_count": 137,
   "id": "e16f3919",
   "metadata": {},
   "outputs": [],
   "source": [
    "from torch.utils.data.dataloader import DataLoader"
   ]
  },
  {
   "cell_type": "code",
   "execution_count": 138,
   "id": "5e8e6ca8",
   "metadata": {},
   "outputs": [],
   "source": [
    "batch_size = 256"
   ]
  },
  {
   "cell_type": "code",
   "execution_count": 139,
   "id": "23cc4ceb",
   "metadata": {},
   "outputs": [
    {
     "name": "stdout",
     "output_type": "stream",
     "text": [
      "176 20\n"
     ]
    }
   ],
   "source": [
    "train_dl = DataLoader(train_ds, batch_size,shuffle=True, num_workers=4,pin_memory=True)\n",
    "val_dl  = DataLoader(val_ds, batch_size,shuffle=True, num_workers=4,pin_memory=True)\n",
    "print(len(train_dl),len(val_dl))"
   ]
  },
  {
   "cell_type": "markdown",
   "id": "bc46d180",
   "metadata": {},
   "source": [
    "# Model"
   ]
  },
  {
   "cell_type": "code",
   "execution_count": 140,
   "id": "4d029420",
   "metadata": {},
   "outputs": [],
   "source": [
    "def show_batch(dl):\n",
    "    for img, labels in dl:\n",
    "        fig, ax =subplots(figsize=(8,8))\n",
    "        \n",
    "        \n",
    "        ax.imshow(make_grid())"
   ]
  },
  {
   "cell_type": "code",
   "execution_count": 141,
   "id": "fa0fb084",
   "metadata": {},
   "outputs": [],
   "source": [
    "import torch.nn as nn\n",
    "import torch.nn.functional as F"
   ]
  },
  {
   "cell_type": "code",
   "execution_count": 142,
   "id": "7354ebad",
   "metadata": {},
   "outputs": [],
   "source": [
    "def conv_block(in_s, out_s, pool = False):\n",
    "    layers = [nn.Conv2d(in_s, out_s, 3 ,padding=1),\n",
    "              nn.BatchNorm2d(out_s),\n",
    "              nn.ReLU()\n",
    "             ]\n",
    "    if (pool): layers.append( nn.MaxPool2d(2))\n",
    "        \n",
    "    return nn.Sequential(*layers)\n",
    "\n",
    "    \n",
    "class MyResNet(nn.Module):\n",
    "    def __init__(self,in_channels, out_classes):\n",
    "        super().__init__()\n",
    "        self.con1 = conv_block(in_channels,64)  # 64*32*32\n",
    "        self.con2 = conv_block(64,128, True)    # 128*16*16\n",
    "        self.res1 = nn.Sequential( conv_block(128,128), conv_block(128,128) )  # 128*16*16\n",
    "        \n",
    "        \n",
    "        self.con3 = conv_block(128,256 , True)   # 256*8*8 \n",
    "        self.con4 = conv_block(256,512 , True)   # 512*4*4\n",
    "        self.res2 = nn.Sequential( conv_block(512,512), conv_block(512,512) )  # 512*4*4 \n",
    "        \n",
    "        self.classifier = nn.Sequential(\n",
    "            nn.MaxPool2d(4),   # 512*1*1 \n",
    "            nn.Flatten(),\n",
    "            nn.Linear(512, out_classes)\n",
    "        )\n",
    "        \n",
    "    def forward(self,x):\n",
    "        x = self.con1(x)\n",
    "        x = self.con2(x)\n",
    "        x = self.res1(x) + x\n",
    "        x = self.con3(x)\n",
    "        x = self.con4(x)\n",
    "        x = self.res2 (x) + x\n",
    "        return self.classifier(x)\n",
    "        "
   ]
  },
  {
   "cell_type": "code",
   "execution_count": 143,
   "id": "c847de56",
   "metadata": {},
   "outputs": [],
   "source": [
    "model = MyResNet(3, 10).to(device)"
   ]
  },
  {
   "cell_type": "code",
   "execution_count": null,
   "id": "481854f6",
   "metadata": {},
   "outputs": [],
   "source": []
  },
  {
   "cell_type": "markdown",
   "id": "6d5e7014",
   "metadata": {},
   "source": [
    "# Visulize the model"
   ]
  },
  {
   "cell_type": "code",
   "execution_count": 144,
   "id": "78906731",
   "metadata": {},
   "outputs": [
    {
     "data": {
      "text/plain": [
       "MyResNet(\n",
       "  (con1): Sequential(\n",
       "    (0): Conv2d(3, 64, kernel_size=(3, 3), stride=(1, 1), padding=(1, 1))\n",
       "    (1): BatchNorm2d(64, eps=1e-05, momentum=0.1, affine=True, track_running_stats=True)\n",
       "    (2): ReLU()\n",
       "  )\n",
       "  (con2): Sequential(\n",
       "    (0): Conv2d(64, 128, kernel_size=(3, 3), stride=(1, 1), padding=(1, 1))\n",
       "    (1): BatchNorm2d(128, eps=1e-05, momentum=0.1, affine=True, track_running_stats=True)\n",
       "    (2): ReLU()\n",
       "    (3): MaxPool2d(kernel_size=2, stride=2, padding=0, dilation=1, ceil_mode=False)\n",
       "  )\n",
       "  (res1): Sequential(\n",
       "    (0): Sequential(\n",
       "      (0): Conv2d(128, 128, kernel_size=(3, 3), stride=(1, 1), padding=(1, 1))\n",
       "      (1): BatchNorm2d(128, eps=1e-05, momentum=0.1, affine=True, track_running_stats=True)\n",
       "      (2): ReLU()\n",
       "    )\n",
       "    (1): Sequential(\n",
       "      (0): Conv2d(128, 128, kernel_size=(3, 3), stride=(1, 1), padding=(1, 1))\n",
       "      (1): BatchNorm2d(128, eps=1e-05, momentum=0.1, affine=True, track_running_stats=True)\n",
       "      (2): ReLU()\n",
       "    )\n",
       "  )\n",
       "  (con3): Sequential(\n",
       "    (0): Conv2d(128, 256, kernel_size=(3, 3), stride=(1, 1), padding=(1, 1))\n",
       "    (1): BatchNorm2d(256, eps=1e-05, momentum=0.1, affine=True, track_running_stats=True)\n",
       "    (2): ReLU()\n",
       "    (3): MaxPool2d(kernel_size=2, stride=2, padding=0, dilation=1, ceil_mode=False)\n",
       "  )\n",
       "  (con4): Sequential(\n",
       "    (0): Conv2d(256, 512, kernel_size=(3, 3), stride=(1, 1), padding=(1, 1))\n",
       "    (1): BatchNorm2d(512, eps=1e-05, momentum=0.1, affine=True, track_running_stats=True)\n",
       "    (2): ReLU()\n",
       "    (3): MaxPool2d(kernel_size=2, stride=2, padding=0, dilation=1, ceil_mode=False)\n",
       "  )\n",
       "  (res2): Sequential(\n",
       "    (0): Sequential(\n",
       "      (0): Conv2d(512, 512, kernel_size=(3, 3), stride=(1, 1), padding=(1, 1))\n",
       "      (1): BatchNorm2d(512, eps=1e-05, momentum=0.1, affine=True, track_running_stats=True)\n",
       "      (2): ReLU()\n",
       "    )\n",
       "    (1): Sequential(\n",
       "      (0): Conv2d(512, 512, kernel_size=(3, 3), stride=(1, 1), padding=(1, 1))\n",
       "      (1): BatchNorm2d(512, eps=1e-05, momentum=0.1, affine=True, track_running_stats=True)\n",
       "      (2): ReLU()\n",
       "    )\n",
       "  )\n",
       "  (classifier): Sequential(\n",
       "    (0): MaxPool2d(kernel_size=4, stride=4, padding=0, dilation=1, ceil_mode=False)\n",
       "    (1): Flatten(start_dim=1, end_dim=-1)\n",
       "    (2): Linear(in_features=512, out_features=10, bias=True)\n",
       "  )\n",
       ")"
      ]
     },
     "execution_count": 144,
     "metadata": {},
     "output_type": "execute_result"
    }
   ],
   "source": [
    "model"
   ]
  },
  {
   "cell_type": "code",
   "execution_count": 145,
   "id": "a34edae4",
   "metadata": {},
   "outputs": [
    {
     "data": {
      "text/plain": [
       "'MyResNet.svg'"
      ]
     },
     "execution_count": 145,
     "metadata": {},
     "output_type": "execute_result"
    }
   ],
   "source": [
    "from torchviz import make_dot\n",
    "y = model(img.unsqueeze(0).cuda())\n",
    "make_dot(y.mean(), params=dict(model.named_parameters()), show_attrs=False, show_saved=False).render(\n",
    "    \"MyResNet\", format=\"svg\")"
   ]
  },
  {
   "cell_type": "code",
   "execution_count": 146,
   "id": "d2d23a3f",
   "metadata": {
    "scrolled": true
   },
   "outputs": [
    {
     "name": "stdout",
     "output_type": "stream",
     "text": [
      "Serving 'models/MyResNet_netron.pth' at http://localhost:8080\n"
     ]
    },
    {
     "data": {
      "text/plain": [
       "('localhost', 8080)"
      ]
     },
     "execution_count": 146,
     "metadata": {},
     "output_type": "execute_result"
    }
   ],
   "source": [
    "import netron\n",
    "if (not os.path.isdir(\"models\")): os.mkdir(\"models\")\n",
    "torch.save(model.state_dict(), \"models/MyResNet_netron.pth\")\n",
    "netron.start(\"models/MyResNet_netron.pth\")"
   ]
  },
  {
   "cell_type": "markdown",
   "id": "f30f0fc8",
   "metadata": {},
   "source": [
    "# Train it"
   ]
  },
  {
   "cell_type": "code",
   "execution_count": 166,
   "id": "ceef1a4d",
   "metadata": {},
   "outputs": [],
   "source": [
    "import torch.optim as optim\n",
    "from tqdm.auto import tqdm"
   ]
  },
  {
   "cell_type": "code",
   "execution_count": 176,
   "id": "6867166d",
   "metadata": {},
   "outputs": [],
   "source": [
    "loss_fn    =  nn.CrossEntropyLoss()\n",
    "optimizer  =  optim.SGD(model.parameters(),lr=0.001)"
   ]
  },
  {
   "cell_type": "code",
   "execution_count": 177,
   "id": "9fd8fb5e",
   "metadata": {},
   "outputs": [],
   "source": [
    "train_losses = []\n",
    "valid_losses = []\n",
    "acurracies   = []"
   ]
  },
  {
   "cell_type": "code",
   "execution_count": 178,
   "id": "ba709125",
   "metadata": {
    "scrolled": false
   },
   "outputs": [
    {
     "data": {
      "application/vnd.jupyter.widget-view+json": {
       "model_id": "c6d2d347e6cc46ca895e0036a00ba9eb",
       "version_major": 2,
       "version_minor": 0
      },
      "text/plain": [
       "  0%|          | 0/196 [00:00<?, ?it/s]"
      ]
     },
     "metadata": {},
     "output_type": "display_data"
    },
    {
     "name": "stdout",
     "output_type": "stream",
     "text": [
      "Epoch:[1] Loss:0.1110 valid Losss:0.2852 val acc:90.50%\n"
     ]
    },
    {
     "data": {
      "application/vnd.jupyter.widget-view+json": {
       "model_id": "d22ee8a02902409892a99caeaabd019a",
       "version_major": 2,
       "version_minor": 0
      },
      "text/plain": [
       "  0%|          | 0/196 [00:00<?, ?it/s]"
      ]
     },
     "metadata": {},
     "output_type": "display_data"
    },
    {
     "name": "stdout",
     "output_type": "stream",
     "text": [
      "Epoch:[2] Loss:0.1090 valid Losss:0.2964 val acc:90.32%\n"
     ]
    },
    {
     "data": {
      "application/vnd.jupyter.widget-view+json": {
       "model_id": "a26c962fa6b64c9d9c59bf04b4bf3cd0",
       "version_major": 2,
       "version_minor": 0
      },
      "text/plain": [
       "  0%|          | 0/196 [00:00<?, ?it/s]"
      ]
     },
     "metadata": {},
     "output_type": "display_data"
    },
    {
     "name": "stdout",
     "output_type": "stream",
     "text": [
      "Epoch:[3] Loss:0.1096 valid Losss:0.2837 val acc:90.48%\n"
     ]
    },
    {
     "data": {
      "application/vnd.jupyter.widget-view+json": {
       "model_id": "eee052c652984fb6ac87e1d99fbdac05",
       "version_major": 2,
       "version_minor": 0
      },
      "text/plain": [
       "  0%|          | 0/196 [00:00<?, ?it/s]"
      ]
     },
     "metadata": {},
     "output_type": "display_data"
    },
    {
     "name": "stdout",
     "output_type": "stream",
     "text": [
      "Epoch:[4] Loss:0.1082 valid Losss:0.2801 val acc:90.74%\n"
     ]
    },
    {
     "data": {
      "application/vnd.jupyter.widget-view+json": {
       "model_id": "27e73853f2464df2943aa0a9dcbacccc",
       "version_major": 2,
       "version_minor": 0
      },
      "text/plain": [
       "  0%|          | 0/196 [00:00<?, ?it/s]"
      ]
     },
     "metadata": {},
     "output_type": "display_data"
    },
    {
     "name": "stdout",
     "output_type": "stream",
     "text": [
      "Epoch:[5] Loss:0.1061 valid Losss:0.2870 val acc:90.48%\n",
      "Spend 68.3208498954773s\n"
     ]
    }
   ],
   "source": [
    "from time import time\n",
    "num_epoch = 5\n",
    "\n",
    "start_time = time()\n",
    "for epoch in range(1,num_epoch+1):\n",
    "    \n",
    "    train_loss = 0.0\n",
    "    valid_loss = 0.0\n",
    "    \n",
    "    ###################### train\n",
    "    \n",
    "    model.train()\n",
    "    pro = tqdm(total=len(train_dl) + len(val_dl))\n",
    "    for img, lbl in train_dl:\n",
    "        img = img.cuda()\n",
    "        lbl = lbl.cuda()\n",
    "        optimizer.zero_grad()\n",
    "        predict = model(img)\n",
    "        \n",
    "        loss = loss_fn(predict,lbl)\n",
    "        loss.backward()\n",
    "        optimizer.step()\n",
    "        \n",
    "        train_loss  +=  loss.item()*img.size(0)\n",
    "        pro.update(1)\n",
    "    \n",
    "    \n",
    "    \n",
    "    ###################### val test\n",
    "    model.eval()\n",
    "    accuracy = 0.0\n",
    "    total = 0.0\n",
    "    \n",
    "    for img, lbl in val_dl:\n",
    "        img = img.cuda()\n",
    "        lbl = lbl.cuda()\n",
    "\n",
    "        predict = model(img)\n",
    "        loss = loss_fn(predict,lbl)\n",
    "\n",
    "        valid_loss += loss.item()*img.size(0)\n",
    "        \n",
    "        \n",
    "        # calculate accuracy\n",
    "        _, predicted = torch.max(predict.data, 1)\n",
    "        total       += lbl.size(0)\n",
    "        accuracy    += (predicted == lbl).sum().item()\n",
    "        \n",
    "        pro.update(1)\n",
    "    pro.close()\n",
    "    \n",
    "    \n",
    "    accuracy = (100 * accuracy / total)\n",
    "    \n",
    "    \n",
    "    train_loss = train_loss/len(train_dl.sampler) \n",
    "    valid_loss = valid_loss/len(test_dl.sampler)\n",
    "\n",
    "    train_losses.append(train_loss)\n",
    "    valid_losses.append(valid_loss)\n",
    "    acurracies.append(accuracy)\n",
    "\n",
    "    print('Epoch:[{}] Loss:{:.4f} valid Losss:{:.4f} val acc:{:.2f}%'.format(len(valid_losses),train_loss,valid_loss,accuracy))    \n",
    "total_time = time() - start_time\n",
    "print(f\"Spend {total_time}s\")"
   ]
  },
  {
   "cell_type": "code",
   "execution_count": 189,
   "id": "d3721666",
   "metadata": {},
   "outputs": [
    {
     "name": "stdout",
     "output_type": "stream",
     "text": [
      "Spend time 01:08\n"
     ]
    }
   ],
   "source": [
    "print( f\"Spend time {total_time//60:02.0f}:{total_time%60:02.0f}\")"
   ]
  },
  {
   "cell_type": "code",
   "execution_count": 171,
   "id": "42033996",
   "metadata": {},
   "outputs": [
    {
     "data": {
      "text/plain": [
       "<matplotlib.legend.Legend at 0x27968f5db80>"
      ]
     },
     "execution_count": 171,
     "metadata": {},
     "output_type": "execute_result"
    },
    {
     "data": {
      "image/png": "[encoded data removed]",
      "text/plain": [
       "<Figure size 640x480 with 1 Axes>"
      ]
     },
     "metadata": {},
     "output_type": "display_data"
    }
   ],
   "source": [
    "fig, ax = subplots(1)\n",
    "this_x = range(1,len(train_losses)+1 )\n",
    "ax.plot(this_x, train_losses,\"x-\",label='train')\n",
    "ax.plot(this_x, valid_losses,\"x-\",label='valid')\n",
    "grid()\n",
    "xlabel(\"Epochs\")\n",
    "ylabel(\"Loss\")\n",
    "\n",
    "legend()"
   ]
  },
  {
   "cell_type": "code",
   "execution_count": null,
   "id": "c4b3d563",
   "metadata": {},
   "outputs": [],
   "source": [
    "fig, ax = subplots(1)\n",
    "this_x = range(1,len(acurracies)+1 )\n",
    "ax.plot(this_x, acurracies,\"x-\",label='acurracy')\n",
    "grid()\n",
    "xlabel(\"Epochs\")\n",
    "ylabel(\"acurracy (%)\")\n",
    "\n",
    "legend()"
   ]
  },
  {
   "cell_type": "code",
   "execution_count": null,
   "id": "1f3329d5",
   "metadata": {},
   "outputs": [],
   "source": []
  },
  {
   "cell_type": "code",
   "execution_count": 172,
   "id": "68f6cdf3",
   "metadata": {},
   "outputs": [],
   "source": [
    "# Test data"
   ]
  },
  {
   "cell_type": "code",
   "execution_count": 173,
   "id": "80bca2b0",
   "metadata": {},
   "outputs": [],
   "source": [
    "dateset = ImageFolder(r'data\\cifar10\\test', transform=ToTensor())\n",
    "final_dl = DataLoader(dateset,64,shuffle=True, num_workers=4,pin_memory=True)"
   ]
  },
  {
   "cell_type": "code",
   "execution_count": 174,
   "id": "cfbdf897",
   "metadata": {},
   "outputs": [
    {
     "data": {
      "application/vnd.jupyter.widget-view+json": {
       "model_id": "3c191fade31c477baff79a1be681f38b",
       "version_major": 2,
       "version_minor": 0
      },
      "text/plain": [
       "  0%|          | 0/157 [00:00<?, ?it/s]"
      ]
     },
     "metadata": {},
     "output_type": "display_data"
    }
   ],
   "source": [
    "model.eval()\n",
    "accuracy = 0.0\n",
    "total = 0.0\n",
    "\n",
    "pro = tqdm(total=len(final_dl))\n",
    "for img, lbl in final_dl:\n",
    "    # run the model on the test set to predict labels\n",
    "    \n",
    "    img = img.cuda()\n",
    "    lbl = lbl.cuda()\n",
    "    \n",
    "    outputs = model(img)\n",
    "    # the label with the highest energy will be our prediction\n",
    "    _, predicted = torch.max(outputs.data, 1)\n",
    "    total    += lbl.size(0)\n",
    "    accuracy += (predicted == lbl).sum().item()\n",
    "    pro.update(1)\n",
    "pro.close()\n",
    "# compute the accuracy over all test images\n",
    "accuracy = (100 * accuracy / total)"
   ]
  },
  {
   "cell_type": "code",
   "execution_count": 175,
   "id": "39193f40",
   "metadata": {},
   "outputs": [
    {
     "name": "stdout",
     "output_type": "stream",
     "text": [
      "Final accuracy : 91.02%\n"
     ]
    }
   ],
   "source": [
    "print(f\"Final accuracy : {accuracy}%\")"
   ]
  },
  {
   "cell_type": "code",
   "execution_count": null,
   "id": "cf4db1ab",
   "metadata": {},
   "outputs": [],
   "source": []
  }
 ],
 "metadata": {
  "kernelspec": {
   "display_name": "Python 3 (ipykernel)",
   "language": "python",
   "name": "python3"
  },
  "language_info": {
   "codemirror_mode": {
    "name": "ipython",
    "version": 3
   },
   "file_extension": ".py",
   "mimetype": "text/x-python",
   "name": "python",
   "nbconvert_exporter": "python",
   "pygments_lexer": "ipython3",
   "version": "3.9.13"
  },
  "toc": {
   "base_numbering": 1,
   "nav_menu": {},
   "number_sections": true,
   "sideBar": true,
   "skip_h1_title": false,
   "title_cell": "Table of Contents",
   "title_sidebar": "Contents",
   "toc_cell": false,
   "toc_position": {
    "height": "calc(100% - 180px)",
    "left": "10px",
    "top": "150px",
    "width": "384px"
   },
   "toc_section_display": true,
   "toc_window_display": true
  }
 },
 "nbformat": 4,
 "nbformat_minor": 5
}
