{
 "cells": [
  {
   "cell_type": "code",
   "execution_count": 1,
   "id": "970a768e",
   "metadata": {},
   "outputs": [],
   "source": [
    "import torchvision\n",
    "import tarfile\n",
    "import torch\n",
    "import glob\n",
    "import os"
   ]
  },
  {
   "cell_type": "code",
   "execution_count": 2,
   "id": "57a4d953",
   "metadata": {},
   "outputs": [],
   "source": [
    "randon_seed = 47"
   ]
  },
  {
   "cell_type": "markdown",
   "id": "2f513166",
   "metadata": {},
   "source": [
    "# Download file"
   ]
  },
  {
   "cell_type": "code",
   "execution_count": 3,
   "id": "04608429",
   "metadata": {},
   "outputs": [],
   "source": [
    "from torchvision.datasets import MNIST\n",
    "from torchvision.transforms import ToTensor, Compose"
   ]
  },
  {
   "cell_type": "code",
   "execution_count": 4,
   "id": "5e9b78c0",
   "metadata": {},
   "outputs": [],
   "source": [
    "transformer = Compose([\n",
    "    ToTensor()\n",
    "])\n",
    "# transformer(img)"
   ]
  },
  {
   "cell_type": "code",
   "execution_count": 5,
   "id": "cdbee366",
   "metadata": {},
   "outputs": [
    {
     "name": "stderr",
     "output_type": "stream",
     "text": [
      "D:\\python\\pytorch_transformer\\lib\\site-packages\\torchvision\\datasets\\mnist.py:498: UserWarning: The given NumPy array is not writeable, and PyTorch does not support non-writeable tensors. This means you can write to the underlying (supposedly non-writeable) NumPy array using the tensor. You may want to copy the array to protect its data or make it writeable before converting it to a tensor. This type of warning will be suppressed for the rest of this program. (Triggered internally at  ..\\torch\\csrc\\utils\\tensor_numpy.cpp:180.)\n",
      "  return torch.from_numpy(parsed.astype(m[2], copy=False)).view(*s)\n"
     ]
    }
   ],
   "source": [
    "dataset = MNIST(root=\"./MN_data\",download=True,train=True , transform=ToTensor())"
   ]
  },
  {
   "cell_type": "code",
   "execution_count": 6,
   "id": "f3fdf159",
   "metadata": {},
   "outputs": [],
   "source": [
    "from matplotlib.pyplot import *"
   ]
  },
  {
   "cell_type": "code",
   "execution_count": 7,
   "id": "e40ee0b7",
   "metadata": {},
   "outputs": [
    {
     "name": "stdout",
     "output_type": "stream",
     "text": [
      "<built-in method size of Tensor object at 0x0000017DE222C600>\n"
     ]
    },
    {
     "data": {
      "image/png": "[encoded data removed]",
      "text/plain": [
       "<Figure size 640x480 with 1 Axes>"
      ]
     },
     "metadata": {},
     "output_type": "display_data"
    }
   ],
   "source": [
    "img, lbl = dataset[10]\n",
    "imshow(img.permute(1,2,0),cmap=\"gray\")\n",
    "title(lbl)\n",
    "print(img.size)"
   ]
  },
  {
   "cell_type": "markdown",
   "id": "ceb141f3",
   "metadata": {},
   "source": [
    "# Device"
   ]
  },
  {
   "cell_type": "code",
   "execution_count": 8,
   "id": "76d3a342",
   "metadata": {},
   "outputs": [
    {
     "data": {
      "text/plain": [
       "device(type='cuda')"
      ]
     },
     "execution_count": 8,
     "metadata": {},
     "output_type": "execute_result"
    }
   ],
   "source": [
    "device = torch.device('cpu')\n",
    "if torch.cuda.is_available():\n",
    "    device = torch.device('cuda')\n",
    "device"
   ]
  },
  {
   "cell_type": "markdown",
   "id": "454549d0",
   "metadata": {},
   "source": [
    "# Random split"
   ]
  },
  {
   "cell_type": "code",
   "execution_count": 9,
   "id": "ec82f36b",
   "metadata": {},
   "outputs": [],
   "source": [
    "from torch.utils.data import random_split"
   ]
  },
  {
   "cell_type": "code",
   "execution_count": 10,
   "id": "47563c0c",
   "metadata": {},
   "outputs": [
    {
     "data": {
      "text/plain": [
       "<torch._C.Generator at 0x17db177d4f0>"
      ]
     },
     "execution_count": 10,
     "metadata": {},
     "output_type": "execute_result"
    }
   ],
   "source": [
    "torch.manual_seed(randon_seed)"
   ]
  },
  {
   "cell_type": "code",
   "execution_count": 11,
   "id": "cb2de07e",
   "metadata": {},
   "outputs": [
    {
     "name": "stdout",
     "output_type": "stream",
     "text": [
      "52800 1200 6000\n"
     ]
    }
   ],
   "source": [
    "val_per = 0.02\n",
    "tes_per = 0.1\n",
    "train_size, val_size, test_size = int(len(dataset)*(1-val_per-tes_per)), int(len(dataset)*val_per), int(len(dataset)*tes_per)\n",
    "\n",
    "train_ds, val_ds, test_ds = random_split(dataset,[train_size, val_size, test_size])\n",
    "print(len(train_ds),len(val_ds), len(test_ds))"
   ]
  },
  {
   "cell_type": "markdown",
   "id": "8c92ef6a",
   "metadata": {},
   "source": [
    "# DataLoader"
   ]
  },
  {
   "cell_type": "code",
   "execution_count": 12,
   "id": "34b2bb5d",
   "metadata": {},
   "outputs": [],
   "source": [
    "from torch.utils.data.dataloader import DataLoader"
   ]
  },
  {
   "cell_type": "code",
   "execution_count": 13,
   "id": "e883de45",
   "metadata": {},
   "outputs": [],
   "source": [
    "batch_size = 128"
   ]
  },
  {
   "cell_type": "code",
   "execution_count": 14,
   "id": "4beaf965",
   "metadata": {},
   "outputs": [
    {
     "name": "stdout",
     "output_type": "stream",
     "text": [
      "413 47\n"
     ]
    }
   ],
   "source": [
    "train_dl = DataLoader(train_ds, batch_size,shuffle=True, num_workers=4,pin_memory=True)\n",
    "val_dl   = DataLoader(val_ds  , batch_size,shuffle=True, num_workers=4,pin_memory=True)\n",
    "test_dl  = DataLoader(test_ds , batch_size,shuffle=True, num_workers=4,pin_memory=True)\n",
    "print(len(train_dl),len(test_dl))"
   ]
  },
  {
   "cell_type": "markdown",
   "id": "09651310",
   "metadata": {},
   "source": [
    "# Model"
   ]
  },
  {
   "cell_type": "code",
   "execution_count": 15,
   "id": "19c02e10",
   "metadata": {},
   "outputs": [],
   "source": [
    "import torch.nn as nn"
   ]
  },
  {
   "cell_type": "code",
   "execution_count": 16,
   "id": "44bdc582",
   "metadata": {},
   "outputs": [],
   "source": [
    "def build_model():\n",
    "    # input:28*28\n",
    "    this_model = nn.Sequential(        # input  :28*28\n",
    "        \n",
    "        nn.Conv2d(1,16,3,padding=1),   # output :32*28*28\n",
    "        nn.ReLU(),\n",
    "        nn.Conv2d(16,32,3,padding=1),  # output :32*28*28\n",
    "        nn.ReLU(),\n",
    "        nn.MaxPool2d(2,2),             # output :32*14*14\n",
    "        \n",
    "        nn.Conv2d(32,64,3,padding=1),  # output :64*14*14\n",
    "        nn.ReLU(),\n",
    "        nn.Conv2d(64,128,3,padding=1), # output :128*14*14\n",
    "        nn.ReLU(),\n",
    "        nn.MaxPool2d(2,2),             # output : 128*7*7\n",
    "        \n",
    "        nn.Flatten(),\n",
    "        nn.Linear(128*7*7, 1024),      # 1024\n",
    "        nn.ReLU(),\n",
    "        nn.Linear(1024,512),           # 512\n",
    "        nn.ReLU(),\n",
    "        nn.Linear(512,10)              # 10\n",
    "    ).to(device)\n",
    "    return this_model"
   ]
  },
  {
   "cell_type": "code",
   "execution_count": 17,
   "id": "89e77593",
   "metadata": {},
   "outputs": [],
   "source": [
    "model = build_model()"
   ]
  },
  {
   "cell_type": "code",
   "execution_count": 18,
   "id": "c48c4b23",
   "metadata": {},
   "outputs": [
    {
     "data": {
      "text/plain": [
       "torch.Size([1, 28, 28])"
      ]
     },
     "execution_count": 18,
     "metadata": {},
     "output_type": "execute_result"
    }
   ],
   "source": [
    "img.shape"
   ]
  },
  {
   "cell_type": "markdown",
   "id": "ca4e0eca",
   "metadata": {},
   "source": [
    "# Visulize the model"
   ]
  },
  {
   "cell_type": "markdown",
   "id": "5dfd1cdd",
   "metadata": {},
   "source": [
    "## torchviz"
   ]
  },
  {
   "cell_type": "code",
   "execution_count": 19,
   "id": "9dd21e28",
   "metadata": {},
   "outputs": [],
   "source": [
    "from torchviz import make_dot"
   ]
  },
  {
   "cell_type": "code",
   "execution_count": 29,
   "id": "e8461558",
   "metadata": {},
   "outputs": [],
   "source": [
    "y = model(img.unsqueeze(0).cuda())"
   ]
  },
  {
   "cell_type": "code",
   "execution_count": 37,
   "id": "3d59ed49",
   "metadata": {},
   "outputs": [
    {
     "data": {
      "text/plain": [
       "'attached.svg'"
      ]
     },
     "execution_count": 37,
     "metadata": {},
     "output_type": "execute_result"
    }
   ],
   "source": [
    "make_dot(y.mean(), params=dict(model.named_parameters()), show_attrs=False, show_saved=False).render(\n",
    "    \"attached\", format=\"svg\")"
   ]
  },
  {
   "cell_type": "markdown",
   "id": "f381687d",
   "metadata": {},
   "source": [
    "## netron"
   ]
  },
  {
   "cell_type": "code",
   "execution_count": 42,
   "id": "90cf94bd",
   "metadata": {},
   "outputs": [],
   "source": [
    "import netron"
   ]
  },
  {
   "cell_type": "code",
   "execution_count": 43,
   "id": "282194c2",
   "metadata": {},
   "outputs": [],
   "source": [
    "if (not os.path.isdir(\"models\")): os.mkdir(\"models\")\n",
    "torch.save(model.state_dict(), \"models/netron.pth\")"
   ]
  },
  {
   "cell_type": "code",
   "execution_count": 45,
   "id": "24b5988e",
   "metadata": {},
   "outputs": [
    {
     "name": "stdout",
     "output_type": "stream",
     "text": [
      "Serving 'models/netron.pth' at http://localhost:8080\n"
     ]
    },
    {
     "data": {
      "text/plain": [
       "('localhost', 8080)"
      ]
     },
     "execution_count": 45,
     "metadata": {},
     "output_type": "execute_result"
    }
   ],
   "source": [
    "netron.start(\"models/netron.pth\")"
   ]
  },
  {
   "cell_type": "markdown",
   "id": "c1f06fbb",
   "metadata": {},
   "source": [
    "## A screenshot of netron"
   ]
  },
  {
   "cell_type": "markdown",
   "id": "eef49dc6",
   "metadata": {},
   "source": [
    "<img src=\"netorn.png\" />"
   ]
  },
  {
   "cell_type": "markdown",
   "id": "dc0311b0",
   "metadata": {},
   "source": [
    "# Train it"
   ]
  },
  {
   "cell_type": "code",
   "execution_count": 50,
   "id": "a678341f",
   "metadata": {},
   "outputs": [],
   "source": [
    "import torch.optim as optim\n",
    "from tqdm.auto import tqdm"
   ]
  },
  {
   "cell_type": "code",
   "execution_count": 51,
   "id": "381b912d",
   "metadata": {},
   "outputs": [],
   "source": [
    "loss_fn    =  nn.CrossEntropyLoss()\n",
    "optimizer  =  optim.Adam(model.parameters(),lr=0.001)"
   ]
  },
  {
   "cell_type": "code",
   "execution_count": 52,
   "id": "4cc1a781",
   "metadata": {},
   "outputs": [],
   "source": [
    "train_losses = []\n",
    "valid_losses = []"
   ]
  },
  {
   "cell_type": "code",
   "execution_count": 53,
   "id": "c04bb156",
   "metadata": {
    "scrolled": true
   },
   "outputs": [
    {
     "data": {
      "application/vnd.jupyter.widget-view+json": {
       "model_id": "880eb0bf7cd84da8852554a98b56b797",
       "version_major": 2,
       "version_minor": 0
      },
      "text/plain": [
       "  0%|          | 0/423 [00:00<?, ?it/s]"
      ]
     },
     "metadata": {},
     "output_type": "display_data"
    },
    {
     "name": "stdout",
     "output_type": "stream",
     "text": [
      "Epoch:1 Train Loss:0.2165 valid Losss:0.0105 val acc:98.42%\n"
     ]
    },
    {
     "data": {
      "application/vnd.jupyter.widget-view+json": {
       "model_id": "f8682458de074bb28041b8ef73bc46d5",
       "version_major": 2,
       "version_minor": 0
      },
      "text/plain": [
       "  0%|          | 0/423 [00:00<?, ?it/s]"
      ]
     },
     "metadata": {},
     "output_type": "display_data"
    },
    {
     "name": "stdout",
     "output_type": "stream",
     "text": [
      "Epoch:2 Train Loss:0.0474 valid Losss:0.0081 val acc:98.83%\n"
     ]
    },
    {
     "data": {
      "application/vnd.jupyter.widget-view+json": {
       "model_id": "c070a7facf6c45f6b2743cc35f595d59",
       "version_major": 2,
       "version_minor": 0
      },
      "text/plain": [
       "  0%|          | 0/423 [00:00<?, ?it/s]"
      ]
     },
     "metadata": {},
     "output_type": "display_data"
    },
    {
     "name": "stdout",
     "output_type": "stream",
     "text": [
      "Epoch:3 Train Loss:0.0311 valid Losss:0.0078 val acc:98.75%\n"
     ]
    },
    {
     "data": {
      "application/vnd.jupyter.widget-view+json": {
       "model_id": "10143b84b68743f5892656a4d0ea1bdc",
       "version_major": 2,
       "version_minor": 0
      },
      "text/plain": [
       "  0%|          | 0/423 [00:00<?, ?it/s]"
      ]
     },
     "metadata": {},
     "output_type": "display_data"
    },
    {
     "name": "stdout",
     "output_type": "stream",
     "text": [
      "Epoch:4 Train Loss:0.0219 valid Losss:0.0050 val acc:99.25%\n"
     ]
    },
    {
     "data": {
      "application/vnd.jupyter.widget-view+json": {
       "model_id": "033cf7d9b83044fc80cf37b216fa8818",
       "version_major": 2,
       "version_minor": 0
      },
      "text/plain": [
       "  0%|          | 0/423 [00:00<?, ?it/s]"
      ]
     },
     "metadata": {},
     "output_type": "display_data"
    },
    {
     "name": "stdout",
     "output_type": "stream",
     "text": [
      "Epoch:5 Train Loss:0.0192 valid Losss:0.0039 val acc:99.58%\n"
     ]
    }
   ],
   "source": [
    "num_epoch = 5\n",
    "\n",
    "for epoch in range(1,num_epoch+1):\n",
    "    \n",
    "    train_loss = 0.0\n",
    "    valid_loss = 0.0\n",
    "    \n",
    "    ###################### train\n",
    "    \n",
    "    model.train()\n",
    "    pro = tqdm(total=len(train_dl) + len(val_dl))\n",
    "    for img, lbl in train_dl:\n",
    "        img = img.cuda()\n",
    "        lbl = lbl.cuda()\n",
    "        optimizer.zero_grad()\n",
    "        predict = model(img)\n",
    "        \n",
    "        loss = loss_fn(predict,lbl)\n",
    "        loss.backward()\n",
    "        optimizer.step()\n",
    "        \n",
    "        train_loss  +=  loss.item()*img.size(0)\n",
    "        pro.update(1)\n",
    "    \n",
    "    \n",
    "    \n",
    "    ###################### val test\n",
    "    model.eval()\n",
    "    accuracy = 0.0\n",
    "    total = 0.0\n",
    "    \n",
    "    for img, lbl in val_dl:\n",
    "        img = img.cuda()\n",
    "        lbl = lbl.cuda()\n",
    "\n",
    "        predict = model(img)\n",
    "        loss = loss_fn(predict,lbl)\n",
    "\n",
    "        valid_loss += loss.item()*img.size(0)\n",
    "        \n",
    "        \n",
    "        # calculate accuracy\n",
    "        _, predicted = torch.max(predict.data, 1)\n",
    "        total       += lbl.size(0)\n",
    "        accuracy    += (predicted == lbl).sum().item()\n",
    "        \n",
    "        pro.update(1)\n",
    "    pro.close()\n",
    "    \n",
    "    \n",
    "    accuracy = (100 * accuracy / total)\n",
    "    \n",
    "    \n",
    "    train_loss = train_loss/len(train_dl.sampler) \n",
    "    valid_loss = valid_loss/len(test_dl.sampler)\n",
    "\n",
    "    train_losses.append(train_loss)\n",
    "    valid_losses.append(valid_loss)\n",
    "\n",
    "    print('Epoch:{} Train Loss:{:.4f} valid Losss:{:.4f} val acc:{:.2f}%'.format(epoch,train_loss,valid_loss,accuracy))    "
   ]
  },
  {
   "cell_type": "code",
   "execution_count": 54,
   "id": "aece6d93",
   "metadata": {},
   "outputs": [
    {
     "data": {
      "text/plain": [
       "<matplotlib.legend.Legend at 0x17e22ad6dc0>"
      ]
     },
     "execution_count": 54,
     "metadata": {},
     "output_type": "execute_result"
    },
    {
     "data": {
      "image/png": "[encoded data removed]",
      "text/plain": [
       "<Figure size 640x480 with 1 Axes>"
      ]
     },
     "metadata": {},
     "output_type": "display_data"
    }
   ],
   "source": [
    "fig, ax = subplots(1)\n",
    "\n",
    "ax.plot(train_losses,\"x-\",label='train')\n",
    "ax.plot(valid_losses,\"x-\",label='valid')\n",
    "grid()\n",
    "xlabel(\"Epochs\")\n",
    "ylabel(\"Loss\")\n",
    "\n",
    "legend()"
   ]
  },
  {
   "cell_type": "markdown",
   "id": "7afb1e62",
   "metadata": {},
   "source": [
    "# test model"
   ]
  },
  {
   "cell_type": "code",
   "execution_count": 55,
   "id": "050adc36",
   "metadata": {},
   "outputs": [
    {
     "data": {
      "application/vnd.jupyter.widget-view+json": {
       "model_id": "b273fd737a6f42c9a0c3dfa252fd9809",
       "version_major": 2,
       "version_minor": 0
      },
      "text/plain": [
       "  0%|          | 0/47 [00:00<?, ?it/s]"
      ]
     },
     "metadata": {},
     "output_type": "display_data"
    }
   ],
   "source": [
    "model.eval()\n",
    "accuracy = 0.0\n",
    "total = 0.0\n",
    "\n",
    "pro = tqdm(total=len(test_dl))\n",
    "for img, lbl in test_dl:\n",
    "    # run the model on the test set to predict labels\n",
    "    \n",
    "    img = img.cuda()\n",
    "    lbl = lbl.cuda()\n",
    "    \n",
    "    outputs = model(img)\n",
    "    # the label with the highest energy will be our prediction\n",
    "    _, predicted = torch.max(outputs.data, 1)\n",
    "    total    += lbl.size(0)\n",
    "    accuracy += (predicted == lbl).sum().item()\n",
    "    pro.update(1)\n",
    "pro.close()\n",
    "# compute the accuracy over all test images\n",
    "accuracy = (100 * accuracy / total)"
   ]
  },
  {
   "cell_type": "code",
   "execution_count": 56,
   "id": "d8c4057d",
   "metadata": {},
   "outputs": [
    {
     "name": "stdout",
     "output_type": "stream",
     "text": [
      "Final accuracy : 98.7%\n"
     ]
    }
   ],
   "source": [
    "print(f\"Final accuracy : {accuracy}%\")"
   ]
  },
  {
   "cell_type": "code",
   "execution_count": 58,
   "id": "eecdab30",
   "metadata": {},
   "outputs": [
    {
     "data": {
      "image/png": "[encoded data removed]",
      "text/plain": [
       "<Figure size 400x400 with 1 Axes>"
      ]
     },
     "metadata": {},
     "output_type": "display_data"
    }
   ],
   "source": [
    "import random\n",
    "\n",
    "# See which case did not predict success\n",
    "\n",
    "while True:\n",
    "    img, labels = dataset[random.randint(0,len(dataset))]\n",
    "    predict = model(img.unsqueeze(0).to(device))\n",
    "    _,predicted = torch.max(predict.data,dim=1)\n",
    "    if ( dataset.classes[predicted[0].item()] != dataset.classes[labels]):\n",
    "        figure(figsize=(4,4))\n",
    "        imshow(img.permute(1,2,0),cmap=\"gray\")\n",
    "        title(f'Label : {dataset.classes[labels]}, Predict : {dataset.classes[predicted[0].item()]}')\n",
    "        break\n",
    "##"
   ]
  },
  {
   "cell_type": "code",
   "execution_count": 59,
   "id": "587ce8f1",
   "metadata": {},
   "outputs": [],
   "source": [
    "if (not os.path.isdir(\"models\")): os.mkdir(\"models\")\n",
    "torch.save(model.state_dict(), \"models/mnist.pth\")"
   ]
  },
  {
   "cell_type": "code",
   "execution_count": 60,
   "id": "98ca5fa4",
   "metadata": {},
   "outputs": [
    {
     "data": {
      "text/plain": [
       "Sequential(\n",
       "  (0): Conv2d(1, 16, kernel_size=(3, 3), stride=(1, 1), padding=(1, 1))\n",
       "  (1): ReLU()\n",
       "  (2): Conv2d(16, 32, kernel_size=(3, 3), stride=(1, 1), padding=(1, 1))\n",
       "  (3): ReLU()\n",
       "  (4): MaxPool2d(kernel_size=2, stride=2, padding=0, dilation=1, ceil_mode=False)\n",
       "  (5): Conv2d(32, 64, kernel_size=(3, 3), stride=(1, 1), padding=(1, 1))\n",
       "  (6): ReLU()\n",
       "  (7): Conv2d(64, 128, kernel_size=(3, 3), stride=(1, 1), padding=(1, 1))\n",
       "  (8): ReLU()\n",
       "  (9): MaxPool2d(kernel_size=2, stride=2, padding=0, dilation=1, ceil_mode=False)\n",
       "  (10): Flatten(start_dim=1, end_dim=-1)\n",
       "  (11): Linear(in_features=6272, out_features=1024, bias=True)\n",
       "  (12): ReLU()\n",
       "  (13): Linear(in_features=1024, out_features=512, bias=True)\n",
       "  (14): ReLU()\n",
       "  (15): Linear(in_features=512, out_features=10, bias=True)\n",
       ")"
      ]
     },
     "execution_count": 60,
     "metadata": {},
     "output_type": "execute_result"
    }
   ],
   "source": [
    "load_model = build_model()\n",
    "load_model.load_state_dict(torch.load(\"models/mnist.pth\"))\n",
    "load_model.eval()"
   ]
  },
  {
   "cell_type": "code",
   "execution_count": null,
   "id": "4518ea98",
   "metadata": {},
   "outputs": [],
   "source": []
  },
  {
   "cell_type": "code",
   "execution_count": null,
   "id": "7c62d136",
   "metadata": {},
   "outputs": [],
   "source": []
  }
 ],
 "metadata": {
  "kernelspec": {
   "display_name": "Python 3 (ipykernel)",
   "language": "python",
   "name": "python3"
  },
  "language_info": {
   "codemirror_mode": {
    "name": "ipython",
    "version": 3
   },
   "file_extension": ".py",
   "mimetype": "text/x-python",
   "name": "python",
   "nbconvert_exporter": "python",
   "pygments_lexer": "ipython3",
   "version": "3.9.13"
  },
  "toc": {
   "base_numbering": 1,
   "nav_menu": {},
   "number_sections": true,
   "sideBar": true,
   "skip_h1_title": false,
   "title_cell": "Table of Contents",
   "title_sidebar": "Contents",
   "toc_cell": false,
   "toc_position": {
    "height": "calc(100% - 180px)",
    "left": "10px",
    "top": "150px",
    "width": "384px"
   },
   "toc_section_display": true,
   "toc_window_display": true
  }
 },
 "nbformat": 4,
 "nbformat_minor": 5
}
